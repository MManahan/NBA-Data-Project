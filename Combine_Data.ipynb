{
 "metadata": {
  "language_info": {
   "codemirror_mode": {
    "name": "ipython",
    "version": 3
   },
   "file_extension": ".py",
   "mimetype": "text/x-python",
   "name": "python",
   "nbconvert_exporter": "python",
   "pygments_lexer": "ipython3",
   "version": "3.8.6-final"
  },
  "orig_nbformat": 2,
  "kernelspec": {
   "name": "python3",
   "display_name": "Python 3.8.6 64-bit",
   "metadata": {
    "interpreter": {
     "hash": "f9f453dddf161e737465453dcacdcf3ad2a3104f69475dca6db80f1e185c083a"
    }
   }
  }
 },
 "nbformat": 4,
 "nbformat_minor": 2,
 "cells": [
  {
   "source": [
    "### Loop through each CSV file and insert column for the year associated with CSV\n",
    "### Then append to list "
   ],
   "cell_type": "markdown",
   "metadata": {}
  },
  {
   "source": [
    "import pandas as pd\n",
    "import glob\n",
    "\n",
    "path = r'C:\\Users\\merma\\Code\\Basketball_Reference_Web_Scraper\\Yearly_Player_Statistics_Data'\n",
    "all_files = glob.glob(path + \"/*.csv\")\n",
    "\n",
    "li = []\n",
    "year = 2001\n",
    "for filename in all_files:\n",
    "    \n",
    "    df = pd.read_csv(filename, index_col=None, header=0)\n",
    "    df['season'] = year\n",
    "    li.append(df)\n",
    "    year += 1\n"
   ],
   "cell_type": "code",
   "metadata": {},
   "execution_count": 1,
   "outputs": []
  },
  {
   "source": [
    "### Concatentate the list to make one dataframe"
   ],
   "cell_type": "markdown",
   "metadata": {}
  },
  {
   "cell_type": "code",
   "execution_count": 2,
   "metadata": {},
   "outputs": [],
   "source": [
    "season_stats = pd.concat(li, axis = 0, ignore_index=True)"
   ]
  },
  {
   "cell_type": "code",
   "execution_count": 3,
   "metadata": {},
   "outputs": [],
   "source": [
    "### Print data frame to singular csv"
   ]
  },
  {
   "cell_type": "code",
   "execution_count": 4,
   "metadata": {},
   "outputs": [],
   "source": [
    "season_stats.to_csv('Yearly_Player_Statistics_Data\\Combined_Data\\All_Seasons_Data.csv')"
   ]
  },
  {
   "source": [
    "## Create SQLite database for SQL Practice"
   ],
   "cell_type": "markdown",
   "metadata": {}
  },
  {
   "cell_type": "code",
   "execution_count": 5,
   "metadata": {},
   "outputs": [],
   "source": [
    "from sqlalchemy import create_engine"
   ]
  },
  {
   "cell_type": "code",
   "execution_count": 6,
   "metadata": {},
   "outputs": [
    {
     "output_type": "stream",
     "name": "stdout",
     "text": [
      "2020-12-13 15:18:10,822 INFO sqlalchemy.engine.base.Engine SELECT CAST('test plain returns' AS VARCHAR(60)) AS anon_1\n",
      "2020-12-13 15:18:10,822 INFO sqlalchemy.engine.base.Engine ()\n",
      "2020-12-13 15:18:10,823 INFO sqlalchemy.engine.base.Engine SELECT CAST('test unicode returns' AS VARCHAR(60)) AS anon_1\n",
      "2020-12-13 15:18:10,823 INFO sqlalchemy.engine.base.Engine ()\n"
     ]
    }
   ],
   "source": [
    "engine = create_engine('sqlite:///Database/All_NBA_Seasons.db', echo=True)\n",
    "sqlite_connection = engine.connect()"
   ]
  },
  {
   "cell_type": "code",
   "execution_count": 7,
   "metadata": {},
   "outputs": [
    {
     "output_type": "stream",
     "name": "stdout",
     "text": [
      "2020-12-13 15:18:19,448 INFO sqlalchemy.engine.base.Engine PRAGMA main.table_info(\"All_NBA_Seasons_Player_Stats\")\n",
      "2020-12-13 15:18:19,449 INFO sqlalchemy.engine.base.Engine ()\n",
      "2020-12-13 15:18:19,450 INFO sqlalchemy.engine.base.Engine PRAGMA temp.table_info(\"All_NBA_Seasons_Player_Stats\")\n",
      "2020-12-13 15:18:19,450 INFO sqlalchemy.engine.base.Engine ()\n",
      "2020-12-13 15:18:19,453 INFO sqlalchemy.engine.base.Engine \n",
      "CREATE TABLE \"All_NBA_Seasons_Player_Stats\" (\n",
      "\t\"index\" BIGINT, \n",
      "\tslug TEXT, \n",
      "\tname TEXT, \n",
      "\tpositions TEXT, \n",
      "\tage BIGINT, \n",
      "\tteam TEXT, \n",
      "\tgames_played BIGINT, \n",
      "\tgames_started BIGINT, \n",
      "\tminutes_played BIGINT, \n",
      "\tmade_field_goals BIGINT, \n",
      "\tattempted_field_goals BIGINT, \n",
      "\tmade_three_point_field_goals BIGINT, \n",
      "\tattempted_three_point_field_goals BIGINT, \n",
      "\tmade_free_throws BIGINT, \n",
      "\tattempted_free_throws BIGINT, \n",
      "\toffensive_rebounds BIGINT, \n",
      "\tdefensive_rebounds BIGINT, \n",
      "\tassists BIGINT, \n",
      "\tsteals BIGINT, \n",
      "\tblocks BIGINT, \n",
      "\tturnovers BIGINT, \n",
      "\tpersonal_fouls BIGINT, \n",
      "\tpoints BIGINT, \n",
      "\tseason BIGINT\n",
      ")\n",
      "\n",
      "\n",
      "2020-12-13 15:18:19,453 INFO sqlalchemy.engine.base.Engine ()\n",
      "2020-12-13 15:18:19,460 INFO sqlalchemy.engine.base.Engine COMMIT\n",
      "2020-12-13 15:18:19,461 INFO sqlalchemy.engine.base.Engine CREATE INDEX \"ix_All_NBA_Seasons_Player_Stats_index\" ON \"All_NBA_Seasons_Player_Stats\" (\"index\")\n",
      "2020-12-13 15:18:19,461 INFO sqlalchemy.engine.base.Engine ()\n",
      "2020-12-13 15:18:19,466 INFO sqlalchemy.engine.base.Engine COMMIT\n",
      "2020-12-13 15:18:19,473 INFO sqlalchemy.engine.base.Engine BEGIN (implicit)\n",
      "2020-12-13 15:18:19,619 INFO sqlalchemy.engine.base.Engine INSERT INTO \"All_NBA_Seasons_Player_Stats\" (\"index\", slug, name, positions, age, team, games_played, games_started, minutes_played, made_field_goals, attempted_field_goals, made_three_point_field_goals, attempted_three_point_field_goals, made_free_throws, attempted_free_throws, offensive_rebounds, defensive_rebounds, assists, steals, blocks, turnovers, personal_fouls, points, season) VALUES (?, ?, ?, ?, ?, ?, ?, ?, ?, ?, ?, ?, ?, ?, ?, ?, ?, ?, ?, ?, ?, ?, ?, ?)\n",
      "2020-12-13 15:18:19,619 INFO sqlalchemy.engine.base.Engine ((0, 'abdulma02', 'Mahmoud Abdul-Rauf', 'POINT GUARD', 31, 'VANCOUVER GRIZZLIES', 41, 0, 486, 120, 246, 4, 14, 22, 29, 5, 20, 76, 9, 1, 26, 50, 266, 2001), (1, 'abdulta01', 'Tariq Abdul-Wahad', 'SHOOTING GUARD', 26, 'DENVER NUGGETS', 29, 12, 420, 43, 111, 4, 10, 21, 36, 14, 45, 22, 14, 13, 34, 54, 111, 2001), (2, 'abdursh01', 'Shareef Abdur-Rahim', 'SMALL FORWARD', 24, 'VANCOUVER GRIZZLIES', 81, 81, 3241, 604, 1280, 12, 64, 443, 531, 175, 560, 250, 90, 77, 231, 238, 1663, 2001), (3, 'alexaco01', 'Cory Alexander', 'POINT GUARD', 27, 'ORLANDO MAGIC', 26, 0, 227, 18, 56, 4, 16, 12, 18, 0, 25, 36, 16, 0, 25, 29, 52, 2001), (4, 'alexaco02', 'Courtney Alexander', 'POINT GUARD', 23, 'DALLAS MAVERICKS', 38, 6, 472, 62, 178, 3, 10, 33, 45, 20, 43, 21, 16, 3, 21, 76, 160, 2001), (5, 'alexaco02', 'Courtney Alexander', 'POINT GUARD', 23, 'WASHINGTON WIZARDS', 27, 18, 910, 177, 395, 14, 36, 90, 105, 22, 58, 41, 29, 2, 54, 63, 458, 2001), (6, 'allenra02', 'Ray Allen', 'SHOOTING GUARD', 25, 'MILWAUKEE BUCKS', 82, 82, 3129, 628, 1309, 202, 467, 348, 392, 101, 327, 374, 124, 20, 204, 192, 1806, 2001), (7, 'alstora01', 'Rafer Alston', 'POINT GUARD', 24, 'MILWAUKEE BUCKS', 37, 2, 288, 30, 84, 8, 30, 9, 13, 4, 27, 68, 13, 0, 20, 27, 77, 2001)  ... displaying 10 of 10603 total bound parameter sets ...  (10601, 'zizican01', 'Ante Žižić', 'CENTER', 23, 'CLEVELAND CAVALIERS', 22, 0, 221, 41, 72, 0, 0, 14, 19, 18, 48, 6, 7, 5, 10, 27, 96, 2020), (10602, 'zubaciv01', 'Ivica Zubac', 'CENTER', 22, 'LOS ANGELES CLIPPERS', 72, 70, 1326, 236, 385, 0, 2, 124, 166, 197, 346, 82, 16, 66, 61, 168, 596, 2020))\n",
      "2020-12-13 15:18:19,657 INFO sqlalchemy.engine.base.Engine COMMIT\n",
      "2020-12-13 15:18:19,670 INFO sqlalchemy.engine.base.Engine SELECT name FROM sqlite_master WHERE type='table' ORDER BY name\n",
      "2020-12-13 15:18:19,670 INFO sqlalchemy.engine.base.Engine ()\n"
     ]
    }
   ],
   "source": [
    "sqlite_table = \"All_NBA_Seasons_Player_Stats\"\n",
    "season_stats.to_sql(sqlite_table, sqlite_connection, if_exists='fail')"
   ]
  },
  {
   "cell_type": "code",
   "execution_count": 8,
   "metadata": {},
   "outputs": [],
   "source": [
    "sqlite_connection.close()"
   ]
  },
  {
   "cell_type": "code",
   "execution_count": null,
   "metadata": {},
   "outputs": [],
   "source": []
  }
 ]
}